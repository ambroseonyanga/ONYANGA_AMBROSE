{
 "cells": [
  {
   "cell_type": "code",
   "execution_count": null,
   "id": "0fd6be3e",
   "metadata": {},
   "outputs": [
    {
     "name": "stdout",
     "output_type": "stream",
     "text": [
      "I love python\n"
     ]
    }
   ],
   "source": [
    "# print(\"I love python\")"
   ]
  },
  {
   "cell_type": "code",
   "execution_count": 1,
   "id": "da3f2c2b",
   "metadata": {},
   "outputs": [
    {
     "name": "stdout",
     "output_type": "stream",
     "text": [
      "3.10.3\n"
     ]
    }
   ],
   "source": [
    "import matplotlib as ambrose\n",
    "print(ambrose.__version__)"
   ]
  },
  {
   "cell_type": "code",
   "execution_count": null,
   "id": "5d943d7a",
   "metadata": {},
   "outputs": [],
   "source": [
    "files = open(\"file.txt\", \"r\")"
   ]
  },
  {
   "cell_type": "code",
   "execution_count": 16,
   "id": "b9b8b6af",
   "metadata": {},
   "outputs": [
    {
     "name": "stdout",
     "output_type": "stream",
     "text": [
      "\n"
     ]
    }
   ],
   "source": [
    "\n",
    "content = files.read()\n",
    "print(content)"
   ]
  },
  {
   "cell_type": "code",
   "execution_count": 17,
   "id": "31033d12",
   "metadata": {},
   "outputs": [],
   "source": [
    "with open(\"geoff.txt\", \"w\") as files:\n",
    "    files.write(\"I am writing to a new file\")"
   ]
  },
  {
   "cell_type": "code",
   "execution_count": 3,
   "id": "98703794",
   "metadata": {},
   "outputs": [
    {
     "name": "stdout",
     "output_type": "stream",
     "text": [
      "<class 'pandas.core.frame.DataFrame'>\n",
      "RangeIndex: 169 entries, 0 to 168\n",
      "Data columns (total 4 columns):\n",
      " #   Column    Non-Null Count  Dtype  \n",
      "---  ------    --------------  -----  \n",
      " 0   Duration  169 non-null    int64  \n",
      " 1   Pulse     169 non-null    int64  \n",
      " 2   Maxpulse  169 non-null    int64  \n",
      " 3   Calories  164 non-null    float64\n",
      "dtypes: float64(1), int64(3)\n",
      "memory usage: 5.4 KB\n"
     ]
    }
   ],
   "source": [
    "import pandas as pd\n",
    "import numpy as np\n",
    "d = pd.read_csv(\"data.csv\")\n",
    "d.info()\n"
   ]
  },
  {
   "cell_type": "code",
   "execution_count": 18,
   "id": "0707bc89",
   "metadata": {},
   "outputs": [
    {
     "name": "stdout",
     "output_type": "stream",
     "text": [
      "I am writing to a new file\n"
     ]
    }
   ],
   "source": [
    "with open(\"geoff.txt\", \"r\") as files:\n",
    "    print(files.read())"
   ]
  }
 ],
 "metadata": {
  "kernelspec": {
   "display_name": ".venv",
   "language": "python",
   "name": "python3"
  },
  "language_info": {
   "codemirror_mode": {
    "name": "ipython",
    "version": 3
   },
   "file_extension": ".py",
   "mimetype": "text/x-python",
   "name": "python",
   "nbconvert_exporter": "python",
   "pygments_lexer": "ipython3",
   "version": "3.12.3"
  }
 },
 "nbformat": 4,
 "nbformat_minor": 5
}
