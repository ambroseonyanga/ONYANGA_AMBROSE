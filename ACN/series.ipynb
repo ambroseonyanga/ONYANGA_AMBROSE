{
 "cells": [
  {
   "cell_type": "code",
   "execution_count": 17,
   "id": "8ab6ce74",
   "metadata": {},
   "outputs": [
    {
     "name": "stdout",
     "output_type": "stream",
     "text": [
      "Equal:\n",
      " 0    False\n",
      "1    False\n",
      "2    False\n",
      "3    False\n",
      "4     True\n",
      "dtype: bool\n",
      "Greater than:\n",
      " 0    False\n",
      "1     True\n",
      "2     True\n",
      "3    False\n",
      "4    False\n",
      "dtype: bool\n",
      "Less than:\n",
      " 0     True\n",
      "1    False\n",
      "2    False\n",
      "3     True\n",
      "4    False\n",
      "dtype: bool\n"
     ]
    }
   ],
   "source": [
    "import pandas as pd\n",
    "\n",
    "s1 = pd.Series([4, 65, 436, 3, 9])\n",
    "s2 = pd.Series([7, 0, 3, 897, 9])\n",
    "\n",
    "# Comparisons\n",
    "print(\"Equal:\\n\", s1 == s2)\n",
    "print(\"Greater than:\\n\", s1 > s2)\n",
    "print(\"Less than:\\n\", s1 < s2)\n"
   ]
  },
  {
   "cell_type": "code",
   "execution_count": 18,
   "id": "8cca4b88",
   "metadata": {},
   "outputs": [
    {
     "name": "stdout",
     "output_type": "stream",
     "text": [
      "Addition:\n",
      " 0     3\n",
      "1     7\n",
      "2    11\n",
      "3    15\n",
      "4    23\n",
      "dtype: int64\n",
      "Subtraction:\n",
      " 0    1\n",
      "1    1\n",
      "2    1\n",
      "3    1\n",
      "4    5\n",
      "dtype: int64\n",
      "Multiplication:\n",
      " 0      2\n",
      "1     12\n",
      "2     30\n",
      "3     56\n",
      "4    126\n",
      "dtype: int64\n",
      "Division:\n",
      " 0    2.000000\n",
      "1    1.333333\n",
      "2    1.200000\n",
      "3    1.142857\n",
      "4    1.555556\n",
      "dtype: float64\n"
     ]
    }
   ],
   "source": [
    "\n",
    "s1 = pd.Series([2, 4, 6, 8, 14])\n",
    "s2 = pd.Series([1, 3, 5, 7, 9])\n",
    "\n",
    "# Operations\n",
    "print(\"Addition:\\n\", s1 + s2)\n",
    "print(\"Subtraction:\\n\", s1 - s2)\n",
    "print(\"Multiplication:\\n\", s1 * s2)\n",
    "print(\"Division:\\n\", s1 / s2)\n"
   ]
  },
  {
   "cell_type": "code",
   "execution_count": 19,
   "id": "d294d93c",
   "metadata": {},
   "outputs": [
    {
     "name": "stdout",
     "output_type": "stream",
     "text": [
      "Josh       24\n",
      "Sam        36\n",
      "Peace      19\n",
      "Charles    65\n",
      "Tom        44\n",
      "dtype: int64\n"
     ]
    }
   ],
   "source": [
    "\n",
    "\n",
    "# Sample Dictionary\n",
    "dictionary1 = {'Josh': 24, 'Sam': 36, 'Peace': 19, 'Charles': 65, 'Tom': 44}\n",
    "\n",
    "# Convert to Series\n",
    "series_from_dict = pd.Series(dictionary1)\n",
    "print(series_from_dict)\n"
   ]
  },
  {
   "cell_type": "code",
   "execution_count": 20,
   "id": "20b401a4",
   "metadata": {},
   "outputs": [
    {
     "name": "stdout",
     "output_type": "stream",
     "text": [
      "['Love' 800 'Joy' 789.9 'Peace' True]\n"
     ]
    }
   ],
   "source": [
    "\n",
    "\n",
    "# Sample Series\n",
    "sample_series = pd.Series(['Love', 800, 'Joy', 789.9, 'Peace', True])\n",
    "\n",
    "# Convert to array\n",
    "array = sample_series.to_numpy()\n",
    "print(array)\n"
   ]
  },
  {
   "cell_type": "code",
   "execution_count": 21,
   "id": "589e5904",
   "metadata": {},
   "outputs": [
    {
     "name": "stdout",
     "output_type": "stream",
     "text": [
      "   Year      Date  Time    HomeTeam       AwayTeam  HomeTeamGoals  \\\n",
      "0  1957  10-Feb-57   NaN     Sudan           Egypt            1.0   \n",
      "1  1957  10-Feb-57   NaN  Ethiopia    South Africa            NaN   \n",
      "2  1957  16-Feb-57   NaN     Egypt        Ethiopia            4.0   \n",
      "3  1959  22-May-59   NaN      Egypt       Ethiopia            4.0   \n",
      "4  1959  25-May-59   NaN     Sudan        Ethiopia            1.0   \n",
      "\n",
      "   AwayTeamGoals             Stage  \\\n",
      "0            2.0        Semifinals   \n",
      "1            NaN        Semifinals   \n",
      "2            0.0             Final   \n",
      "3            0.0  Final Tournament   \n",
      "4            0.0  Final Tournament   \n",
      "\n",
      "                                SpecialWinConditions                Stadium  \\\n",
      "0                                                NaN      Municipal Stadium   \n",
      "1  Ethiopia  wins due to disqualification of othe...                    NaN   \n",
      "2                                                NaN      Municipal Stadium   \n",
      "3                                                NaN  Prince Farouk Stadium   \n",
      "4                                                NaN  Prince Farouk Stadium   \n",
      "\n",
      "        City  Attendance  \n",
      "0   Khartoum     30000.0  \n",
      "1        NaN         NaN  \n",
      "2   Khartoum     30000.0  \n",
      "3      Cairo     30000.0  \n",
      "4      Cairo     20000.0  \n",
      "0        1.0\n",
      "2      Other\n",
      "3      Other\n",
      "4        1.0\n",
      "5      Other\n",
      "       ...  \n",
      "617    Other\n",
      "618      1.0\n",
      "619    Other\n",
      "620    Other\n",
      "621    Other\n",
      "Name: HomeTeamGoals, Length: 618, dtype: object\n"
     ]
    }
   ],
   "source": [
    "import pandas as pd\n",
    "from io import StringIO\n",
    "\n",
    "# Read the file safely\n",
    "with open('AfricaCupOfNationsMatches.csv', 'r', encoding='utf-8', errors='replace') as f:\n",
    "    data = f.read()\n",
    "\n",
    "# Try using a flexible engine and skip malformed lines\n",
    "df = pd.read_csv(StringIO(data), sep=',', engine='python', on_bad_lines='skip')\n",
    "\n",
    "# Show first few rows to confirm structure\n",
    "print(df.head())  # Optional for inspection\n",
    "\n",
    "# Check if the column 'HomeTeamGoals' exists\n",
    "if 'HomeTeamGoals' in df.columns:\n",
    "    goals_series = df['HomeTeamGoals']\n",
    "\n",
    "    # Handle non-numeric values gracefully (if needed)\n",
    "    goals_series = pd.to_numeric(goals_series, errors='coerce')  # Convert to numbers\n",
    "    goals_series = goals_series.dropna()  # Drop rows where conversion failed\n",
    "\n",
    "    most_frequent = goals_series.mode()[0]\n",
    "\n",
    "    new_series = goals_series.apply(lambda x: x if x == most_frequent else 'Other')\n",
    "    print(new_series)\n",
    "else:\n",
    "    print(\"⚠️ Column 'HomeTeamGoals' not found in the CSV file.\")\n"
   ]
  }
 ],
 "metadata": {
  "kernelspec": {
   "display_name": "base",
   "language": "python",
   "name": "python3"
  },
  "language_info": {
   "codemirror_mode": {
    "name": "ipython",
    "version": 3
   },
   "file_extension": ".py",
   "mimetype": "text/x-python",
   "name": "python",
   "nbconvert_exporter": "python",
   "pygments_lexer": "ipython3",
   "version": "3.12.7"
  }
 },
 "nbformat": 4,
 "nbformat_minor": 5
}
